{
 "cells": [
  {
   "cell_type": "code",
   "execution_count": 11,
   "metadata": {},
   "outputs": [
    {
     "ename": "ModuleNotFoundError",
     "evalue": "No module named 'pandas'",
     "output_type": "error",
     "traceback": [
      "\u001b[31m---------------------------------------------------------------------------\u001b[39m",
      "\u001b[31mModuleNotFoundError\u001b[39m                       Traceback (most recent call last)",
      "\u001b[36mCell\u001b[39m\u001b[36m \u001b[39m\u001b[32mIn[11]\u001b[39m\u001b[32m, line 4\u001b[39m\n\u001b[32m      1\u001b[39m \u001b[38;5;66;03m# import pandas as pd\u001b[39;00m\n\u001b[32m      2\u001b[39m \u001b[38;5;66;03m#import sklearn\u001b[39;00m\n\u001b[32m      3\u001b[39m \u001b[38;5;66;03m#print(sklearn.__version__)\u001b[39;00m\n\u001b[32m----> \u001b[39m\u001b[32m4\u001b[39m \u001b[38;5;28;01mimport\u001b[39;00m\u001b[38;5;250m \u001b[39m\u001b[34;01mpandas\u001b[39;00m\n",
      "\u001b[31mModuleNotFoundError\u001b[39m: No module named 'pandas'"
     ]
    }
   ],
   "source": [
    "# import pandas as pd\n",
    "#import sklearn\n",
    "#print(sklearn.__version__)\n",
    "import pandas"
   ]
  },
  {
   "cell_type": "code",
   "execution_count": 12,
   "metadata": {},
   "outputs": [
    {
     "name": "stdout",
     "output_type": "stream",
     "text": [
      "/home/aliko/APPs/AuditMaster/AuditMaster/.venv/bin/python\n"
     ]
    }
   ],
   "source": [
    "import sys\n",
    "print(sys.executable)"
   ]
  },
  {
   "cell_type": "code",
   "execution_count": null,
   "metadata": {},
   "outputs": [
    {
     "ename": "NameError",
     "evalue": "name 'pd' is not defined",
     "output_type": "error",
     "traceback": [
      "\u001b[31m---------------------------------------------------------------------------\u001b[39m",
      "\u001b[31mNameError\u001b[39m                                 Traceback (most recent call last)",
      "\u001b[36mCell\u001b[39m\u001b[36m \u001b[39m\u001b[32mIn[2]\u001b[39m\u001b[32m, line 1\u001b[39m\n\u001b[32m----> \u001b[39m\u001b[32m1\u001b[39m df = \u001b[43mpd\u001b[49m.read_excel(\u001b[33m'\u001b[39m\u001b[33mIFRS9_V.xlsx\u001b[39m\u001b[33m'\u001b[39m, sheet_name=\u001b[33m'\u001b[39m\u001b[33mSheet1\u001b[39m\u001b[33m'\u001b[39m)  \u001b[38;5;66;03m# Replace with your file's name\u001b[39;00m\n\u001b[32m      3\u001b[39m df\n",
      "\u001b[31mNameError\u001b[39m: name 'pd' is not defined"
     ]
    }
   ],
   "source": [
    "df = pd.read_excel('IFRS9_V.xlsx', sheet_name='Sheet1')  # Replace with your file's name\n",
    "\n",
    "df"
   ]
  },
  {
   "cell_type": "code",
   "execution_count": null,
   "metadata": {},
   "outputs": [
    {
     "data": {
      "text/plain": [
       "PRODUCT_TYPE                     object\n",
       "CUSTOMER_ID                      object\n",
       "CUSTOMER_NAME                    object\n",
       "QUALITY_CUSTOMER                 object\n",
       "STAGE                            object\n",
       "CUSTOMER_PROFILE                 object\n",
       "REFRENCE/ ACC                    object\n",
       "Expiry Date                      object\n",
       "Sub_limit_code                  float64\n",
       "Sub_limit_type                   object\n",
       "BALANCE_CCY                      object\n",
       "Amortized Balance               float64\n",
       "Amortized Balance Equivalent    float64\n",
       "DPD                             float64\n",
       "LIMIT_NBR                       float64\n",
       "STO                             float64\n",
       "STO GBP                         float64\n",
       "LGD %                           float64\n",
       "Final Expiry date               float64\n",
       "Final Impairment                float64\n",
       "DG 12 Months                    float64\n",
       "Financial Statement item         object\n",
       "EAD Amount                      float64\n",
       "GP Collateral Type               object\n",
       "Colletral amount                float64\n",
       "dtype: object"
      ]
     },
     "execution_count": 5,
     "metadata": {},
     "output_type": "execute_result"
    }
   ],
   "source": [
    "df.dtypes"
   ]
  },
  {
   "cell_type": "code",
   "execution_count": null,
   "metadata": {},
   "outputs": [
    {
     "data": {
      "text/html": [
       "<div>\n",
       "<style scoped>\n",
       "    .dataframe tbody tr th:only-of-type {\n",
       "        vertical-align: middle;\n",
       "    }\n",
       "\n",
       "    .dataframe tbody tr th {\n",
       "        vertical-align: top;\n",
       "    }\n",
       "\n",
       "    .dataframe thead th {\n",
       "        text-align: right;\n",
       "    }\n",
       "</style>\n",
       "<table border=\"1\" class=\"dataframe\">\n",
       "  <thead>\n",
       "    <tr style=\"text-align: right;\">\n",
       "      <th></th>\n",
       "      <th>Sub_limit_code</th>\n",
       "      <th>Amortized Balance</th>\n",
       "      <th>Amortized Balance Equivalent</th>\n",
       "      <th>DPD</th>\n",
       "      <th>LIMIT_NBR</th>\n",
       "      <th>STO</th>\n",
       "      <th>STO GBP</th>\n",
       "      <th>LGD %</th>\n",
       "      <th>Final Expiry date</th>\n",
       "      <th>Final Impairment</th>\n",
       "      <th>DG 12 Months</th>\n",
       "      <th>EAD Amount</th>\n",
       "      <th>Colletral amount</th>\n",
       "    </tr>\n",
       "  </thead>\n",
       "  <tbody>\n",
       "    <tr>\n",
       "      <th>count</th>\n",
       "      <td>9564.000000</td>\n",
       "      <td>1.124400e+04</td>\n",
       "      <td>1.124400e+04</td>\n",
       "      <td>4777.000000</td>\n",
       "      <td>4875.000000</td>\n",
       "      <td>1.124100e+04</td>\n",
       "      <td>1.124100e+04</td>\n",
       "      <td>11244.000000</td>\n",
       "      <td>11103.000000</td>\n",
       "      <td>1.124400e+04</td>\n",
       "      <td>11244.000000</td>\n",
       "      <td>1.124400e+04</td>\n",
       "      <td>1.124400e+04</td>\n",
       "    </tr>\n",
       "    <tr>\n",
       "      <th>mean</th>\n",
       "      <td>303.721665</td>\n",
       "      <td>3.292316e+06</td>\n",
       "      <td>5.880247e+06</td>\n",
       "      <td>1.326565</td>\n",
       "      <td>339251.856410</td>\n",
       "      <td>4.024818e+09</td>\n",
       "      <td>1.056839e+08</td>\n",
       "      <td>0.569424</td>\n",
       "      <td>33863.412861</td>\n",
       "      <td>6.245760e+04</td>\n",
       "      <td>14.514879</td>\n",
       "      <td>3.638080e+06</td>\n",
       "      <td>2.148962e+06</td>\n",
       "    </tr>\n",
       "    <tr>\n",
       "      <th>std</th>\n",
       "      <td>3563.518174</td>\n",
       "      <td>1.705235e+07</td>\n",
       "      <td>3.679271e+07</td>\n",
       "      <td>11.657509</td>\n",
       "      <td>146100.938199</td>\n",
       "      <td>1.015973e+11</td>\n",
       "      <td>2.667748e+09</td>\n",
       "      <td>0.368118</td>\n",
       "      <td>9568.137113</td>\n",
       "      <td>8.652440e+05</td>\n",
       "      <td>2.158952</td>\n",
       "      <td>2.818546e+07</td>\n",
       "      <td>2.309644e+07</td>\n",
       "    </tr>\n",
       "    <tr>\n",
       "      <th>min</th>\n",
       "      <td>20.000000</td>\n",
       "      <td>1.294570e-04</td>\n",
       "      <td>5.005859e-04</td>\n",
       "      <td>0.000000</td>\n",
       "      <td>6.000000</td>\n",
       "      <td>0.000000e+00</td>\n",
       "      <td>0.000000e+00</td>\n",
       "      <td>0.010000</td>\n",
       "      <td>25569.000000</td>\n",
       "      <td>1.455975e-06</td>\n",
       "      <td>1.000000</td>\n",
       "      <td>5.005859e-04</td>\n",
       "      <td>0.000000e+00</td>\n",
       "    </tr>\n",
       "    <tr>\n",
       "      <th>25%</th>\n",
       "      <td>102.000000</td>\n",
       "      <td>1.588015e+03</td>\n",
       "      <td>2.218191e+03</td>\n",
       "      <td>0.000000</td>\n",
       "      <td>258152.000000</td>\n",
       "      <td>4.082000e+07</td>\n",
       "      <td>1.071854e+06</td>\n",
       "      <td>0.010032</td>\n",
       "      <td>25569.000000</td>\n",
       "      <td>9.864656e+00</td>\n",
       "      <td>12.800000</td>\n",
       "      <td>1.806765e+03</td>\n",
       "      <td>0.000000e+00</td>\n",
       "    </tr>\n",
       "    <tr>\n",
       "      <th>50%</th>\n",
       "      <td>106.000000</td>\n",
       "      <td>5.622500e+04</td>\n",
       "      <td>8.060242e+04</td>\n",
       "      <td>0.000000</td>\n",
       "      <td>386453.000000</td>\n",
       "      <td>1.359050e+08</td>\n",
       "      <td>3.568601e+06</td>\n",
       "      <td>0.766000</td>\n",
       "      <td>25569.000000</td>\n",
       "      <td>1.207330e+02</td>\n",
       "      <td>15.000000</td>\n",
       "      <td>4.363371e+04</td>\n",
       "      <td>6.450000e-02</td>\n",
       "    </tr>\n",
       "    <tr>\n",
       "      <th>75%</th>\n",
       "      <td>516.000000</td>\n",
       "      <td>8.280830e+05</td>\n",
       "      <td>1.592090e+06</td>\n",
       "      <td>0.000000</td>\n",
       "      <td>453153.000000</td>\n",
       "      <td>6.045660e+08</td>\n",
       "      <td>1.587473e+07</td>\n",
       "      <td>0.850000</td>\n",
       "      <td>44924.000000</td>\n",
       "      <td>3.404578e+03</td>\n",
       "      <td>16.000000</td>\n",
       "      <td>6.631227e+05</td>\n",
       "      <td>6.395125e+04</td>\n",
       "    </tr>\n",
       "    <tr>\n",
       "      <th>max</th>\n",
       "      <td>201106.000000</td>\n",
       "      <td>5.179074e+08</td>\n",
       "      <td>1.585330e+09</td>\n",
       "      <td>397.000000</td>\n",
       "      <td>515154.000000</td>\n",
       "      <td>5.265491e+12</td>\n",
       "      <td>1.382615e+11</td>\n",
       "      <td>0.974500</td>\n",
       "      <td>47726.000000</td>\n",
       "      <td>6.028086e+07</td>\n",
       "      <td>21.000000</td>\n",
       "      <td>1.585330e+09</td>\n",
       "      <td>1.412940e+09</td>\n",
       "    </tr>\n",
       "  </tbody>\n",
       "</table>\n",
       "</div>"
      ],
      "text/plain": [
       "       Sub_limit_code  Amortized Balance  Amortized Balance Equivalent  \\\n",
       "count     9564.000000       1.124400e+04                  1.124400e+04   \n",
       "mean       303.721665       3.292316e+06                  5.880247e+06   \n",
       "std       3563.518174       1.705235e+07                  3.679271e+07   \n",
       "min         20.000000       1.294570e-04                  5.005859e-04   \n",
       "25%        102.000000       1.588015e+03                  2.218191e+03   \n",
       "50%        106.000000       5.622500e+04                  8.060242e+04   \n",
       "75%        516.000000       8.280830e+05                  1.592090e+06   \n",
       "max     201106.000000       5.179074e+08                  1.585330e+09   \n",
       "\n",
       "               DPD      LIMIT_NBR           STO       STO GBP         LGD %  \\\n",
       "count  4777.000000    4875.000000  1.124100e+04  1.124100e+04  11244.000000   \n",
       "mean      1.326565  339251.856410  4.024818e+09  1.056839e+08      0.569424   \n",
       "std      11.657509  146100.938199  1.015973e+11  2.667748e+09      0.368118   \n",
       "min       0.000000       6.000000  0.000000e+00  0.000000e+00      0.010000   \n",
       "25%       0.000000  258152.000000  4.082000e+07  1.071854e+06      0.010032   \n",
       "50%       0.000000  386453.000000  1.359050e+08  3.568601e+06      0.766000   \n",
       "75%       0.000000  453153.000000  6.045660e+08  1.587473e+07      0.850000   \n",
       "max     397.000000  515154.000000  5.265491e+12  1.382615e+11      0.974500   \n",
       "\n",
       "       Final Expiry date  Final Impairment  DG 12 Months    EAD Amount  \\\n",
       "count       11103.000000      1.124400e+04  11244.000000  1.124400e+04   \n",
       "mean        33863.412861      6.245760e+04     14.514879  3.638080e+06   \n",
       "std          9568.137113      8.652440e+05      2.158952  2.818546e+07   \n",
       "min         25569.000000      1.455975e-06      1.000000  5.005859e-04   \n",
       "25%         25569.000000      9.864656e+00     12.800000  1.806765e+03   \n",
       "50%         25569.000000      1.207330e+02     15.000000  4.363371e+04   \n",
       "75%         44924.000000      3.404578e+03     16.000000  6.631227e+05   \n",
       "max         47726.000000      6.028086e+07     21.000000  1.585330e+09   \n",
       "\n",
       "       Colletral amount  \n",
       "count      1.124400e+04  \n",
       "mean       2.148962e+06  \n",
       "std        2.309644e+07  \n",
       "min        0.000000e+00  \n",
       "25%        0.000000e+00  \n",
       "50%        6.450000e-02  \n",
       "75%        6.395125e+04  \n",
       "max        1.412940e+09  "
      ]
     },
     "execution_count": 6,
     "metadata": {},
     "output_type": "execute_result"
    }
   ],
   "source": [
    "df.describe()"
   ]
  },
  {
   "cell_type": "code",
   "execution_count": null,
   "metadata": {},
   "outputs": [
    {
     "data": {
      "text/plain": [
       "PRODUCT_TYPE                       0\n",
       "CUSTOMER_ID                        0\n",
       "CUSTOMER_NAME                      1\n",
       "QUALITY_CUSTOMER                   0\n",
       "STAGE                              0\n",
       "CUSTOMER_PROFILE                   0\n",
       "REFRENCE/ ACC                   1681\n",
       "Expiry Date                     6390\n",
       "Sub_limit_code                  1680\n",
       "Sub_limit_type                     0\n",
       "BALANCE_CCY                        0\n",
       "Amortized Balance                  0\n",
       "Amortized Balance Equivalent       0\n",
       "DPD                             6467\n",
       "LIMIT_NBR                       6369\n",
       "STO                                3\n",
       "STO GBP                            3\n",
       "LGD %                              0\n",
       "Final Expiry date                141\n",
       "Final Impairment                   0\n",
       "DG 12 Months                       0\n",
       "Financial Statement item           0\n",
       "EAD Amount                         0\n",
       "GP Collateral Type                 0\n",
       "Colletral amount                   0\n",
       "dtype: int64"
      ]
     },
     "execution_count": 7,
     "metadata": {},
     "output_type": "execute_result"
    }
   ],
   "source": [
    "# Check for missing values\n",
    "\n",
    "df.isnull().sum()  # This code will output the number of missing values in each column."
   ]
  },
  {
   "cell_type": "code",
   "execution_count": null,
   "metadata": {},
   "outputs": [
    {
     "data": {
      "text/plain": [
       "np.int64(0)"
      ]
     },
     "execution_count": 8,
     "metadata": {},
     "output_type": "execute_result"
    }
   ],
   "source": [
    "# Check for duplicate rows\n",
    "df.duplicated().sum()"
   ]
  },
  {
   "cell_type": "code",
   "execution_count": null,
   "metadata": {},
   "outputs": [
    {
     "data": {
      "text/plain": [
       "'\\n# Create a new Excel writer\\nwith pd.ExcelWriter(\\'missing_values.xlsx\\') as writer:\\n    # Loop through each column with missing values\\n    for col in df.columns[df.isnull().any()]:\\n        # Clean the column name by replacing invalid characters\\n        cleaned_col = col.replace(\"/\", \"_\").replace(\"\\\\\", \"_\").replace(\"?\", \"_\").replace(\"*\", \"_\").replace(\"[\", \"_\").replace(\"]\", \"_\") \\n\\n        # Filter the DataFrame to get rows with missing values in the current column\\n        missing_rows = df[df[col].isnull()]\\n\\n        # Write the filtered DataFrame to a new sheet in the Excel file\\n        missing_rows.to_excel(writer, sheet_name=f\"Missing_{cleaned_col}\", index=False)\\n'"
      ]
     },
     "execution_count": 9,
     "metadata": {},
     "output_type": "execute_result"
    }
   ],
   "source": [
    "'''\n",
    "# Create a new Excel writer\n",
    "with pd.ExcelWriter('missing_values.xlsx') as writer:\n",
    "    # Loop through each column with missing values\n",
    "    for col in df.columns[df.isnull().any()]:\n",
    "        # Clean the column name by replacing invalid characters\n",
    "        cleaned_col = col.replace(\"/\", \"_\").replace(\"\\\\\", \"_\").replace(\"?\", \"_\").replace(\"*\", \"_\").replace(\"[\", \"_\").replace(\"]\", \"_\") \n",
    "\n",
    "        # Filter the DataFrame to get rows with missing values in the current column\n",
    "        missing_rows = df[df[col].isnull()]\n",
    "\n",
    "        # Write the filtered DataFrame to a new sheet in the Excel file\n",
    "        missing_rows.to_excel(writer, sheet_name=f\"Missing_{cleaned_col}\", index=False)\n",
    "'''"
   ]
  },
  {
   "cell_type": "code",
   "execution_count": null,
   "metadata": {},
   "outputs": [
    {
     "ename": "ModuleNotFoundError",
     "evalue": "No module named 'sklearn'",
     "output_type": "error",
     "traceback": [
      "\u001b[31m---------------------------------------------------------------------------\u001b[39m",
      "\u001b[31mModuleNotFoundError\u001b[39m                       Traceback (most recent call last)",
      "\u001b[36mCell\u001b[39m\u001b[36m \u001b[39m\u001b[32mIn[10]\u001b[39m\u001b[32m, line 1\u001b[39m\n\u001b[32m----> \u001b[39m\u001b[32m1\u001b[39m \u001b[38;5;28;01mimport\u001b[39;00m\u001b[38;5;250m \u001b[39m\u001b[34;01msklearn\u001b[39;00m\n\u001b[32m      2\u001b[39m \u001b[38;5;28mprint\u001b[39m(sklearn.__version__)\n",
      "\u001b[31mModuleNotFoundError\u001b[39m: No module named 'sklearn'"
     ]
    }
   ],
   "source": [
    "import sklearn\n",
    "print(sklearn.__version__)"
   ]
  },
  {
   "cell_type": "code",
   "execution_count": null,
   "metadata": {},
   "outputs": [],
   "source": []
  }
 ],
 "metadata": {
  "kernelspec": {
   "display_name": ".venv",
   "language": "python",
   "name": "python3"
  },
  "language_info": {
   "codemirror_mode": {
    "name": "ipython",
    "version": 3
   },
   "file_extension": ".py",
   "mimetype": "text/x-python",
   "name": "python",
   "nbconvert_exporter": "python",
   "pygments_lexer": "ipython3",
   "version": "3.12.9"
  }
 },
 "nbformat": 4,
 "nbformat_minor": 2
}
